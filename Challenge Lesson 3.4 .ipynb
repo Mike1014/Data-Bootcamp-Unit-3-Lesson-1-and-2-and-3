{
 "cells": [
  {
   "cell_type": "code",
   "execution_count": 4,
   "metadata": {
    "collapsed": true
   },
   "outputs": [],
   "source": [
    "import pandas as pd\n",
    "import matplotlib.pyplot as plt\n",
    "import numpy as np\n",
    "import math\n",
    "import seaborn as sns\n",
    "import sklearn\n",
    "from sklearn import linear_model\n",
    "from sklearn import preprocessing"
   ]
  },
  {
   "cell_type": "code",
   "execution_count": 5,
   "metadata": {},
   "outputs": [],
   "source": [
    "import warnings\n",
    "# Suppress annoying harmless error.\n",
    "warnings.filterwarnings(\n",
    "    action=\"ignore\",\n",
    "    module=\"scipy\",\n",
    "    message=\"^internal gelsd\"\n",
    ")\n",
    "\n",
    "%matplotlib inline\n",
    "sns.set_style('white')"
   ]
  },
  {
   "cell_type": "code",
   "execution_count": 6,
   "metadata": {},
   "outputs": [
    {
     "data": {
      "text/html": [
       "<div>\n",
       "<style>\n",
       "    .dataframe thead tr:only-child th {\n",
       "        text-align: right;\n",
       "    }\n",
       "\n",
       "    .dataframe thead th {\n",
       "        text-align: left;\n",
       "    }\n",
       "\n",
       "    .dataframe tbody tr th {\n",
       "        vertical-align: top;\n",
       "    }\n",
       "</style>\n",
       "<table border=\"1\" class=\"dataframe\">\n",
       "  <thead>\n",
       "    <tr style=\"text-align: right;\">\n",
       "      <th></th>\n",
       "      <th>City</th>\n",
       "      <th>Population</th>\n",
       "      <th>Violent_Crime</th>\n",
       "      <th>Rape</th>\n",
       "      <th>Robbery</th>\n",
       "      <th>Aggravated_Assault</th>\n",
       "      <th>Property_Crime</th>\n",
       "      <th>Burglary</th>\n",
       "      <th>Larceny_Theft</th>\n",
       "      <th>Motor_Theft</th>\n",
       "      <th>Arson</th>\n",
       "      <th>Murder</th>\n",
       "    </tr>\n",
       "  </thead>\n",
       "  <tbody>\n",
       "    <tr>\n",
       "      <th>0</th>\n",
       "      <td>Adelanto</td>\n",
       "      <td>31165.0</td>\n",
       "      <td>198.0</td>\n",
       "      <td>15.0</td>\n",
       "      <td>52.0</td>\n",
       "      <td>129.0</td>\n",
       "      <td>886.0</td>\n",
       "      <td>381.0</td>\n",
       "      <td>372.0</td>\n",
       "      <td>133.0</td>\n",
       "      <td>17.0</td>\n",
       "      <td>2.0</td>\n",
       "    </tr>\n",
       "    <tr>\n",
       "      <th>1</th>\n",
       "      <td>Agoura Hills</td>\n",
       "      <td>20762.0</td>\n",
       "      <td>19.0</td>\n",
       "      <td>2.0</td>\n",
       "      <td>10.0</td>\n",
       "      <td>7.0</td>\n",
       "      <td>306.0</td>\n",
       "      <td>109.0</td>\n",
       "      <td>185.0</td>\n",
       "      <td>12.0</td>\n",
       "      <td>7.0</td>\n",
       "      <td>0.0</td>\n",
       "    </tr>\n",
       "    <tr>\n",
       "      <th>2</th>\n",
       "      <td>Alameda</td>\n",
       "      <td>76206.0</td>\n",
       "      <td>158.0</td>\n",
       "      <td>10.0</td>\n",
       "      <td>85.0</td>\n",
       "      <td>63.0</td>\n",
       "      <td>1902.0</td>\n",
       "      <td>287.0</td>\n",
       "      <td>1285.0</td>\n",
       "      <td>330.0</td>\n",
       "      <td>17.0</td>\n",
       "      <td>0.0</td>\n",
       "    </tr>\n",
       "    <tr>\n",
       "      <th>3</th>\n",
       "      <td>Albany</td>\n",
       "      <td>19104.0</td>\n",
       "      <td>29.0</td>\n",
       "      <td>1.0</td>\n",
       "      <td>24.0</td>\n",
       "      <td>4.0</td>\n",
       "      <td>557.0</td>\n",
       "      <td>94.0</td>\n",
       "      <td>388.0</td>\n",
       "      <td>75.0</td>\n",
       "      <td>7.0</td>\n",
       "      <td>0.0</td>\n",
       "    </tr>\n",
       "    <tr>\n",
       "      <th>4</th>\n",
       "      <td>Alhambra</td>\n",
       "      <td>84710.0</td>\n",
       "      <td>163.0</td>\n",
       "      <td>9.0</td>\n",
       "      <td>81.0</td>\n",
       "      <td>72.0</td>\n",
       "      <td>1774.0</td>\n",
       "      <td>344.0</td>\n",
       "      <td>1196.0</td>\n",
       "      <td>234.0</td>\n",
       "      <td>7.0</td>\n",
       "      <td>1.0</td>\n",
       "    </tr>\n",
       "  </tbody>\n",
       "</table>\n",
       "</div>"
      ],
      "text/plain": [
       "           City  Population  Violent_Crime  Rape  Robbery  Aggravated_Assault  \\\n",
       "0      Adelanto     31165.0          198.0  15.0     52.0               129.0   \n",
       "1  Agoura Hills     20762.0           19.0   2.0     10.0                 7.0   \n",
       "2       Alameda     76206.0          158.0  10.0     85.0                63.0   \n",
       "3        Albany     19104.0           29.0   1.0     24.0                 4.0   \n",
       "4      Alhambra     84710.0          163.0   9.0     81.0                72.0   \n",
       "\n",
       "   Property_Crime  Burglary  Larceny_Theft  Motor_Theft  Arson  Murder  \n",
       "0           886.0     381.0          372.0        133.0   17.0     2.0  \n",
       "1           306.0     109.0          185.0         12.0    7.0     0.0  \n",
       "2          1902.0     287.0         1285.0        330.0   17.0     0.0  \n",
       "3           557.0      94.0          388.0         75.0    7.0     0.0  \n",
       "4          1774.0     344.0         1196.0        234.0    7.0     1.0  "
      ]
     },
     "execution_count": 6,
     "metadata": {},
     "output_type": "execute_result"
    }
   ],
   "source": [
    "# import crime dataset\n",
    "df = pd.read_csv('offenses_known_to_law_enforcement_california_by_city_2013.csv')\n",
    "\n",
    "# Clean the data\n",
    "df = df.drop([0,1,2])\n",
    "df = df.rename(columns=df.iloc[0])\n",
    "\n",
    "df = df.drop([3])\n",
    "df = df.reset_index(drop = True)\n",
    "df.drop(df.columns[len(df.columns)-1], axis=1, inplace=True)\n",
    "\n",
    "# Get Rid of Null Values\n",
    "df = df.dropna(axis =1, how = 'all')\n",
    "df = df[:-2]\n",
    "\n",
    "# Change the variables from object to float \n",
    "for var in list(df)[1:]:\n",
    "    df[var] = df[var].str.replace(',','')\n",
    "    df[var] = pd.to_numeric(df[var]).astype(float)\n",
    "\n",
    "# Rename the columns\n",
    "df = df.rename(columns = {'Violent\\ncrime':'Violent_Crime',\n",
    "                          'Murder and\\nnonnegligent\\nmanslaughter':'Murder',\n",
    "                          'Rape\\n(legacy\\ndefinition)2':'Rape',\n",
    "                          'Aggravated\\nassault':'Aggravated_Assault',\n",
    "                          'Property\\ncrime':'Property_Crime',\n",
    "                          'Larceny-\\ntheft':'Larceny_Theft',\n",
    "                          'Motor\\nvehicle\\ntheft':'Motor_Theft',\n",
    "                          'Arson3': 'Arson'})\n",
    "\n",
    "# Rearrange the columns to have 'Murder' last\n",
    "cols = df.columns.tolist()\n",
    "cols = cols[:3] + cols[4:] + cols[3:4]\n",
    "df = df[cols]\n",
    "\n",
    "df.head()"
   ]
  },
  {
   "cell_type": "markdown",
   "metadata": {},
   "source": [
    "# Vanilla Logistics Regression"
   ]
  },
  {
   "cell_type": "markdown",
   "metadata": {},
   "source": [
    "    Normalize the features will cause the 'percentage accuracy' to be 1, why is that?\n",
    "        *Solution: need to normalize the dataset before spliting the training and testing sets."
   ]
  },
  {
   "cell_type": "code",
   "execution_count": 52,
   "metadata": {},
   "outputs": [],
   "source": [
    "# Create a new dataframe to work on for Logistic Regression\n",
    "log_df = df.copy()\n",
    "\n",
    "# Change Murder to binary variables (target variable)\n",
    "log_df['Murder'] = log_df['Murder'].apply(lambda x: 1 if x > 0 else 0)\n",
    "\n",
    "# Define training and test sizes\n",
    "## Training set consist of 90% of the data\n",
    "## Test set consist of 10% of the data\n",
    "testsize = int(log_df.shape[0] / 10)\n",
    "log_train = log_df.iloc[testsize:,:].copy() \n",
    "log_test = log_df.iloc[:testsize,:].copy()"
   ]
  },
  {
   "cell_type": "code",
   "execution_count": 53,
   "metadata": {},
   "outputs": [
    {
     "name": "stdout",
     "output_type": "stream",
     "text": [
      "Coefficients\n",
      "[[ -8.91199019e-06   3.93893990e-03   7.91055196e-04   2.49938830e-03\n",
      "   -8.82643816e-04   1.02649006e-03  -2.21595976e-03  -1.24618078e-03\n",
      "    4.48863060e-03  -3.97634000e-04]]\n",
      "\n",
      "Intercept\n",
      "[-0.00086997]\n",
      "\n",
      " Percentage Accuracy (training set)\n",
      "0.704326923077\n"
     ]
    }
   ],
   "source": [
    "# Declare a Logistic Regression Model\n",
    "regr = linear_model.LogisticRegression(C=1e9)\n",
    "\n",
    "X_train = log_train.iloc[:,1:len(list(log_train))-1]     #choose variables that exclude 'City' and 'Murder'\n",
    "Y_train = log_train['Murder']     # target\n",
    "\n",
    "# Fit the model\n",
    "regr.fit(X_train, Y_train)\n",
    "\n",
    "lr_origparams = regr.coef_\n",
    "lr_newinter = regr.intercept_\n",
    "\n",
    "# Display Results\n",
    "print('Coefficients')\n",
    "print(lr_origparams)\n",
    "print('\\nIntercept')\n",
    "print(lr_newinter)\n",
    "\n",
    "print('\\n Percentage Accuracy (training set)')\n",
    "print(regr.score(X_train, Y_train))"
   ]
  },
  {
   "cell_type": "code",
   "execution_count": 54,
   "metadata": {},
   "outputs": [
    {
     "name": "stdout",
     "output_type": "stream",
     "text": [
      "\n",
      " Percentage Accuracy (test set)\n",
      "0.673913043478\n"
     ]
    }
   ],
   "source": [
    "# Test set\n",
    "X_test = log_test.iloc[:,1:len(list(log_test))-1]\n",
    "Y_test = log_test['Murder']     # target\n",
    "\n",
    "print('\\n Percentage Accuracy (test set)')\n",
    "print(regr.score(X_test, Y_test))"
   ]
  },
  {
   "cell_type": "markdown",
   "metadata": {},
   "source": [
    "    Note: Want to cross validate"
   ]
  },
  {
   "cell_type": "markdown",
   "metadata": {},
   "source": [
    "# Ridge Logistic Regression"
   ]
  },
  {
   "cell_type": "code",
   "execution_count": 47,
   "metadata": {
    "collapsed": true
   },
   "outputs": [],
   "source": [
    "# Create a new dataframe to work on for Ridge Logistic Regression\n",
    "ridge_df = df.copy()\n",
    "\n",
    "# Normalize the variable (exclude 'Murder')\n",
    "ridge_df = pd.DataFrame(preprocessing.scale(df.iloc[:,1:len(list(df))-1]),\n",
    "                        columns = ridge_df.columns[1:len(list(df))-1])\n",
    "\n",
    "# Change Murder to binary variables (target variable)\n",
    "ridge_df['Murder'] = df['Murder'].apply(lambda x: 1 if x > 0 else 0)\n",
    "\n",
    "\n",
    "# Define training and test sizes\n",
    "## Training set consist of 90% of the data\n",
    "## Test set consist of 10% of the data\n",
    "testsize = int(ridge_df.shape[0] / 10)\n",
    "ridge_train = ridge_df.iloc[testsize:,:].copy() \n",
    "ridge_test = ridge_df.iloc[:testsize,:].copy()"
   ]
  },
  {
   "cell_type": "code",
   "execution_count": 48,
   "metadata": {},
   "outputs": [
    {
     "name": "stdout",
     "output_type": "stream",
     "text": [
      "Coefficients\n",
      "[[ 0.66278423  0.18731495  1.41166109 -0.86865088  0.95415705  0.45684109\n",
      "   1.40429622 -0.11155247  1.45566837 -0.68004415]]\n",
      "\n",
      "\n",
      "Percentage Accuracy (training set)\n",
      "0.752403846154\n"
     ]
    }
   ],
   "source": [
    "# Declare a Ridge Logistic Regression Model\n",
    "ridgeregr = linear_model.LogisticRegression(penalty='l2', fit_intercept=False)     # Tol ~ alpha, in this case\n",
    "\n",
    "X_train = ridge_train.iloc[:,:-1]\n",
    "Y_train = ridge_train['Murder']     #target variable\n",
    "\n",
    "# Fit the Model\n",
    "ridgeregr.fit(X_train, Y_train)\n",
    "\n",
    "ridge_orgiparams = ridgeregr.coef_    #the intercept should be equal to zero and can be dropped.\n",
    "\n",
    "print('Coefficients')\n",
    "print(ridge_orgiparams)\n",
    "print('\\n')\n",
    "\n",
    "print('Percentage Accuracy (training set)')\n",
    "print(ridgeregr.score(X_train, Y_train))"
   ]
  },
  {
   "cell_type": "code",
   "execution_count": 51,
   "metadata": {},
   "outputs": [
    {
     "name": "stdout",
     "output_type": "stream",
     "text": [
      "Percentage Accuracy (test set)\n",
      "0.630434782609\n"
     ]
    }
   ],
   "source": [
    "# Test set\n",
    "X_test = ridge_test.iloc[:,:-1]\n",
    "Y_test = ridge_test['Murder']     #target variable\n",
    "\n",
    "ridge_orgiparams = ridgeregr.coef_    #the intercept should be equal to zero and can be dropped.\n",
    "\n",
    "print('Percentage Accuracy (test set)')\n",
    "print(ridgeregr.score(X_test, Y_test))"
   ]
  },
  {
   "cell_type": "markdown",
   "metadata": {},
   "source": [
    "    What about the alpha value?"
   ]
  },
  {
   "cell_type": "markdown",
   "metadata": {},
   "source": [
    "# Lasso Logistic Regression"
   ]
  },
  {
   "cell_type": "code",
   "execution_count": 41,
   "metadata": {
    "collapsed": true
   },
   "outputs": [],
   "source": [
    "# Create a new dataframe to work on for Ridge Logistic Regression\n",
    "lasso_df = df.copy()\n",
    "\n",
    "# Normalize the variable (exclude 'Murder')\n",
    "lasso_df = pd.DataFrame(preprocessing.scale(df.iloc[:,1:len(list(df))-1]),\n",
    "                        columns = ridge_df.columns[1:len(list(df))-1])\n",
    "\n",
    "# Change Murder to binary variables (target variable)\n",
    "lasso_df['Murder'] = df['Murder'].apply(lambda x: 1 if x > 0 else 0)\n",
    "\n",
    "\n",
    "# Define training and test sizes\n",
    "## Training set consist of 90% of the data\n",
    "## Test set consist of 10% of the data\n",
    "testsize = int(lasso_df.shape[0] / 10)\n",
    "lasso_train = lasso_df.iloc[testsize:,:].copy() \n",
    "lasso_test = lasso_df.iloc[:testsize,:].copy()"
   ]
  },
  {
   "cell_type": "code",
   "execution_count": 42,
   "metadata": {},
   "outputs": [
    {
     "name": "stdout",
     "output_type": "stream",
     "text": [
      "Coefficients\n",
      "[[ 0.          0.          2.21182677  0.          1.98582501  0.\n",
      "   1.07129929  0.          4.52572575]]\n",
      "\n",
      "\n",
      "Intercept\n",
      "[ 1.2226799]\n",
      "\n",
      "Percentage Accuracy (training set)\n",
      "0.78125\n"
     ]
    }
   ],
   "source": [
    "# Declare a Ridge Logistic Regression Model\n",
    "lassoregr = linear_model.LogisticRegression(penalty='l1')\n",
    "\n",
    "X_train = lasso_train.iloc[:,:-1]\n",
    "Y_train = lasso_train['Murder']     #target variable\n",
    "\n",
    "# Fit the Model\n",
    "lassoregr.fit(X_train, Y_train)\n",
    "\n",
    "lasso_orgiparams = lassoregr.coef_\n",
    "lasso_originter = lassoregr.intercept_\n",
    "\n",
    "print('Coefficients')\n",
    "print(lasso_orgiparams)\n",
    "print('\\n')\n",
    "print('Intercept')\n",
    "print(lasso_originter)\n",
    "\n",
    "print('\\nPercentage Accuracy (training set)')\n",
    "print(lassoregr.score(X_train, Y_train))"
   ]
  },
  {
   "cell_type": "code",
   "execution_count": 50,
   "metadata": {},
   "outputs": [
    {
     "name": "stdout",
     "output_type": "stream",
     "text": [
      "\n",
      "Percentage Accuracy (test set)\n",
      "0.739130434783\n"
     ]
    }
   ],
   "source": [
    "# Test set\n",
    "X_test = lasso_test.iloc[:,:-1]\n",
    "Y_test = lasso_test['Murder']     #target variable\n",
    "\n",
    "print('\\nPercentage Accuracy (test set)')\n",
    "print(lassoregr.score(X_test, Y_test))"
   ]
  },
  {
   "cell_type": "markdown",
   "metadata": {
    "collapsed": true
   },
   "source": [
    "    Note to self: Dont fit the model twice!!! Only fit when training the data."
   ]
  },
  {
   "cell_type": "markdown",
   "metadata": {},
   "source": [
    "    Note to self: use 'predict()' on test set => get a vector\n",
    "                    compare the two, how often the results coincide shows the accuracy of the model"
   ]
  },
  {
   "cell_type": "code",
   "execution_count": null,
   "metadata": {
    "collapsed": true
   },
   "outputs": [],
   "source": []
  }
 ],
 "metadata": {
  "kernelspec": {
   "display_name": "Python 3",
   "language": "python",
   "name": "python3"
  },
  "language_info": {
   "codemirror_mode": {
    "name": "ipython",
    "version": 3
   },
   "file_extension": ".py",
   "mimetype": "text/x-python",
   "name": "python",
   "nbconvert_exporter": "python",
   "pygments_lexer": "ipython3",
   "version": "3.6.1"
  }
 },
 "nbformat": 4,
 "nbformat_minor": 2
}
