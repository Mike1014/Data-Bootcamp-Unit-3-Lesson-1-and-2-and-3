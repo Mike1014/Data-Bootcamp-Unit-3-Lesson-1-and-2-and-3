{
 "cells": [
  {
   "cell_type": "code",
   "execution_count": 19,
   "metadata": {
    "collapsed": true
   },
   "outputs": [],
   "source": [
    "import numpy as np\n",
    "import pandas as pd\n",
    "import matplotlib.pyplot as plt\n",
    "import scipy\n",
    "import warnings\n",
    "\n",
    "%matplotlib inline\n",
    "# Suppress annoying harmless error.\n",
    "warnings.filterwarnings(\n",
    "    action=\"ignore\",\n",
    "    module=\"scipy\",\n",
    "    message=\"^internal gelsd\"\n",
    ")"
   ]
  },
  {
   "cell_type": "code",
   "execution_count": 20,
   "metadata": {
    "collapsed": true
   },
   "outputs": [],
   "source": [
    "# import csv file\n",
    "df = pd.read_csv('2014_NEW_YORK_Offenses_Known_to_Law_Enforcement.csv')\n",
    "#df = pd.read_csv('https://raw.githubusercontent.com/Thinkful-Ed/data-201-resources/master' +\n",
    "#                 '/New_York_offenses/NEW_YORK-Offenses_Known_to_Law_Enforcement_by_City_2013%20-%2013tbl8ny.csv')\n",
    "\n",
    "\n",
    "# clean up the dataframe\n",
    "df = df.drop([0,1,2])\n",
    "df = df.rename(columns=df.iloc[0])\n",
    "df = df.rename(columns = {'Murder and\\nnonnegligent\\nmanslaughter':'Murder',\n",
    "                          'Aggravated\\nassault':'Aggravated_Assault',\n",
    "                          'Property\\ncrime':'Property_Crime',\n",
    "                          'Larceny-\\ntheft':'Larceny_Theft',\n",
    "                          'Motor\\nvehicle\\ntheft':'Motor_Theft',\n",
    "                          'Arson3': 'Arson'})\n",
    "df = df.drop([3])\n",
    "df = df.reset_index(drop = True)\n",
    "df.drop(df.columns[len(df.columns)-1], axis=1, inplace=True)\n",
    "\n",
    "\n",
    "# Change Population from object to int\n",
    "df['Population'] = df['Population'].str.replace(',', '')\n",
    "df['Population'] = pd.to_numeric(df['Population']).astype(float)\n",
    "\n",
    "# Transfrom these variables to float for later use\n",
    "df['Robbery'] = df['Robbery'].str.replace(',', '')\n",
    "df['Robbery'] = pd.to_numeric(df['Robbery']).astype(float)\n",
    "\n",
    "\n",
    "df['Aggravated_Assault'] = df['Aggravated_Assault'].str.replace(',', '')\n",
    "df['Aggravated_Assault'] = pd.to_numeric(df['Aggravated_Assault']).astype(float)\n",
    "\n",
    "df['Burglary'] = df['Burglary'].str.replace(',', '')\n",
    "df['Burglary'] = pd.to_numeric(df['Burglary']).astype(float)\n",
    "\n",
    "df['Larceny_Theft'] = df['Larceny_Theft'].str.replace(',', '')\n",
    "df['Larceny_Theft'] = pd.to_numeric(df['Larceny_Theft']).astype(float)\n",
    "\n",
    "df['Motor_Theft'] = df['Motor_Theft'].str.replace(',', '')\n",
    "df['Motor_Theft'] = pd.to_numeric(df['Motor_Theft']).astype(float)\n",
    "\n",
    "df['Property_Crime'] = df['Property_Crime'].str.replace(',', '')\n",
    "df['Property_Crime'] = pd.to_numeric(df['Property_Crime']).astype(float)"
   ]
  },
  {
   "cell_type": "code",
   "execution_count": 21,
   "metadata": {
    "collapsed": true
   },
   "outputs": [],
   "source": [
    "# Create a Feature dataframe\n",
    "features = pd.DataFrame()\n",
    "\n",
    "# set up features\n",
    "features['Population'] = (df['Population']).dropna()\n",
    "features['Population_Squared'] = features['Population']**2\n",
    "features['Aggravated_Assault'] = (df['Aggravated_Assault']).dropna()\n",
    "features['Burglary'] = (df['Burglary']).dropna()\n",
    "features['Larceny_Theft'] = (df['Larceny_Theft']).dropna()\n",
    "features['Motor_Theft'] = (df['Motor_Theft']).dropna()\n",
    "features['Property_Crime'] = (df['Property_Crime']).dropna()\n",
    "\n",
    "# target variable\n",
    "features['Robbery'] = df['Robbery'].dropna()"
   ]
  },
  {
   "cell_type": "markdown",
   "metadata": {},
   "source": [
    "    # Getting rid of outliers"
   ]
  },
  {
   "cell_type": "code",
   "execution_count": 22,
   "metadata": {},
   "outputs": [
    {
     "data": {
      "image/png": "[encoded data removed]",
      "text/plain": [
       "<matplotlib.figure.Figure at 0x280c81d0128>"
      ]
     },
     "metadata": {},
     "output_type": "display_data"
    }
   ],
   "source": [
    "Y = features['Robbery'].values.reshape(-1, 1)\n",
    "X = features[['Population_Squared', 'Aggravated_Assault', 'Burglary',\n",
    "              'Larceny_Theft', 'Motor_Theft', 'Property_Crime']]\n",
    "\n",
    "# Plot scatter graph to identify outliers\n",
    "plt.scatter(Y, X['Population_Squared'])\n",
    "plt.title('Raw values')\n",
    "plt.show()"
   ]
  },
  {
   "cell_type": "code",
   "execution_count": 23,
   "metadata": {},
   "outputs": [
    {
     "name": "stdout",
     "output_type": "stream",
     "text": [
      "     Population  Population_Squared  Aggravated_Assault  Burglary  \\\n",
      "4       98595.0        9.720974e+09               503.0     683.0   \n",
      "38     258419.0        6.678038e+10              1663.0    3119.0   \n",
      "147     55722.0        3.104941e+09               221.0     201.0   \n",
      "227   8473938.0        7.180763e+13             31460.0   15916.0   \n",
      "283    210347.0        4.424586e+10               850.0    2125.0   \n",
      "326    144534.0        2.089008e+10               668.0    1404.0   \n",
      "366    200624.0        4.024999e+10               580.0     414.0   \n",
      "\n",
      "     Larceny_Theft  Motor_Theft  Property_Crime  Robbery  \n",
      "4           3083.0        122.0          3888.0    237.0  \n",
      "38          8362.0        968.0         12449.0   1277.0  \n",
      "147          607.0        157.0           965.0    248.0  \n",
      "227       112107.0       7724.0        135747.0  16581.0  \n",
      "283         6058.0        673.0          8856.0    698.0  \n",
      "326         3986.0        365.0          5755.0    406.0  \n",
      "366         1395.0        200.0          2009.0    358.0  \n"
     ]
    }
   ],
   "source": [
    "# Remove the outlier\n",
    "loc = features.loc[lambda x: features['Robbery'] > 200]\n",
    "print(loc)\n",
    "features = features.drop(loc.index)"
   ]
  },
  {
   "cell_type": "code",
   "execution_count": 24,
   "metadata": {},
   "outputs": [
    {
     "data": {
      "image/png": "[encoded data removed]",
      "text/plain": [
       "<matplotlib.figure.Figure at 0x280c829cb70>"
      ]
     },
     "metadata": {},
     "output_type": "display_data"
    }
   ],
   "source": [
    "Y = features['Robbery'].values.reshape(-1, 1)\n",
    "X = features[['Population_Squared', 'Aggravated_Assault', 'Burglary',\n",
    "              'Larceny_Theft', 'Motor_Theft', 'Property_Crime']]\n",
    "\n",
    "# Plot scatter graph to identify outliers\n",
    "plt.scatter(Y, X['Population_Squared'])\n",
    "plt.title('Raw values')\n",
    "plt.show()"
   ]
  },
  {
   "cell_type": "markdown",
   "metadata": {},
   "source": [
    "    # Normalize the Data"
   ]
  },
  {
   "cell_type": "code",
   "execution_count": 25,
   "metadata": {
    "collapsed": true,
    "scrolled": true
   },
   "outputs": [],
   "source": [
    "# Normalized Data\n",
    "for var in list(features):\n",
    "    features[var] = (features[var] - min(features[var])) / (max(features[var]) - min(features[var]))\n",
    "    \n",
    "# Remove Null Values from Features\n",
    "features = features.dropna()"
   ]
  },
  {
   "cell_type": "code",
   "execution_count": 26,
   "metadata": {
    "collapsed": true
   },
   "outputs": [],
   "source": [
    "import statsmodels.formula.api as smf\n",
    "\n",
    "# Write out the model formula.\n",
    "linear_formula = 'Robbery ~ Population_Squared + Aggravated_Assault + Burglary + Larceny_Theft + Motor_Theft + Property_Crime'\n",
    "\n",
    "# Fit the model to our data using the formula.\n",
    "lm = smf.ols(formula = linear_formula, data = features).fit()"
   ]
  },
  {
   "cell_type": "code",
   "execution_count": 27,
   "metadata": {},
   "outputs": [
    {
     "data": {
      "text/plain": [
       "Intercept            -0.001543\n",
       "Population_Squared    0.095584\n",
       "Aggravated_Assault    0.960746\n",
       "Burglary             -0.285864\n",
       "Larceny_Theft         0.051298\n",
       "Motor_Theft           0.229399\n",
       "Property_Crime       -0.013369\n",
       "dtype: float64"
      ]
     },
     "execution_count": 27,
     "metadata": {},
     "output_type": "execute_result"
    }
   ],
   "source": [
    "# list the parameters\n",
    "lm.params"
   ]
  },
  {
   "cell_type": "code",
   "execution_count": 28,
   "metadata": {},
   "outputs": [
    {
     "data": {
      "text/plain": [
       "Intercept             4.063007e-01\n",
       "Population_Squared    1.386785e-03\n",
       "Aggravated_Assault    3.561999e-76\n",
       "Burglary              6.606683e-08\n",
       "Larceny_Theft         1.356753e-02\n",
       "Motor_Theft           2.393930e-09\n",
       "Property_Crime        1.959113e-01\n",
       "dtype: float64"
      ]
     },
     "execution_count": 28,
     "metadata": {},
     "output_type": "execute_result"
    }
   ],
   "source": [
    "# list the p-values\n",
    "lm.pvalues"
   ]
  },
  {
   "cell_type": "code",
   "execution_count": 29,
   "metadata": {},
   "outputs": [
    {
     "data": {
      "text/plain": [
       "0.92757054991094967"
      ]
     },
     "execution_count": 29,
     "metadata": {},
     "output_type": "execute_result"
    }
   ],
   "source": [
    "# Calculate the R-Square\n",
    "lm.rsquared"
   ]
  },
  {
   "cell_type": "markdown",
   "metadata": {},
   "source": [
    "    # OLS Regression"
   ]
  },
  {
   "cell_type": "code",
   "execution_count": 46,
   "metadata": {},
   "outputs": [
    {
     "name": "stdout",
     "output_type": "stream",
     "text": [
      "Accuracy: 0.89 (+/- 0.09)\n"
     ]
    }
   ],
   "source": [
    "from sklearn.model_selection import cross_val_score\n",
    "from sklearn import linear_model\n",
    "regr = linear_model.LinearRegression()\n",
    "\n",
    "Y = features['Robbery']  # target\n",
    "X = features[['Population_Squared', 'Aggravated_Assault', 'Burglary',\n",
    "              'Larceny_Theft', 'Motor_Theft', 'Property_Crime']]\n",
    "reg = regr.fit(X, Y)\n",
    "\n",
    "score = cross_val_score(reg, X, Y, cv=5)\n",
    "print(\"Accuracy: %0.2f (+/- %0.2f)\" % (score.mean(), score.std() * 2))"
   ]
  },
  {
   "cell_type": "markdown",
   "metadata": {},
   "source": [
    "    # KNN Regression"
   ]
  },
  {
   "cell_type": "code",
   "execution_count": 63,
   "metadata": {},
   "outputs": [
    {
     "data": {
      "text/plain": [
       "KNeighborsRegressor(algorithm='auto', leaf_size=30, metric='minkowski',\n",
       "          metric_params=None, n_jobs=1, n_neighbors=5, p=2,\n",
       "          weights='distance')"
      ]
     },
     "execution_count": 63,
     "metadata": {},
     "output_type": "execute_result"
    }
   ],
   "source": [
    "from sklearn import neighbors\n",
    "\n",
    "# Build our model.\n",
    "knn = neighbors.KNeighborsRegressor(n_neighbors=5, weights='distance')\n",
    "Y = features['Robbery']\n",
    "X = features[['Population_Squared', 'Aggravated_Assault', 'Burglary',\n",
    "              'Larceny_Theft', 'Motor_Theft', 'Property_Crime']]\n",
    "knn.fit(X, Y)"
   ]
  },
  {
   "cell_type": "code",
   "execution_count": 65,
   "metadata": {},
   "outputs": [
    {
     "name": "stdout",
     "output_type": "stream",
     "text": [
      "Weighted Accuracy: 0.78 (+/- 0.27)\n",
      "[ 0.90461598  0.64098525  0.61500624  0.80005913  0.95282661]\n"
     ]
    }
   ],
   "source": [
    "# K = 5\n",
    "score = cross_val_score(knn, X, Y, cv=5)\n",
    "print(\"Weighted Accuracy: %0.2f (+/- %0.2f)\" % (score.mean(), score.std() * 2))\n",
    "print(score)"
   ]
  },
  {
   "cell_type": "code",
   "execution_count": 58,
   "metadata": {
    "scrolled": true
   },
   "outputs": [
    {
     "name": "stdout",
     "output_type": "stream",
     "text": [
      "Weighted Accuracy: 0.75 (+/- 0.32)\n"
     ]
    }
   ],
   "source": [
    "# K = 10\n",
    "score = cross_val_score(knn, X, Y, cv=5)\n",
    "print(\"Weighted Accuracy: %0.2f (+/- %0.2f)\" % (score.mean(), score.std() * 2))"
   ]
  },
  {
   "cell_type": "code",
   "execution_count": 60,
   "metadata": {},
   "outputs": [
    {
     "name": "stdout",
     "output_type": "stream",
     "text": [
      "Weighted Accuracy: 0.72 (+/- 0.30)\n"
     ]
    }
   ],
   "source": [
    "# K = 15\n",
    "score = cross_val_score(knn, X, Y, cv=5)\n",
    "print(\"Weighted Accuracy: %0.2f (+/- %0.2f)\" % (score.mean(), score.std() * 2))"
   ]
  },
  {
   "cell_type": "markdown",
   "metadata": {},
   "source": [
    "    *KNN works better in a large dataset with more dense datapoints, less variance"
   ]
  },
  {
   "cell_type": "markdown",
   "metadata": {},
   "source": [
    "    # Conclusion"
   ]
  },
  {
   "cell_type": "markdown",
   "metadata": {},
   "source": [
    "    In terms of coding, these two model are pratically identical, the only difference is function I used to fit the models. In terms of algorithm, the OLS Regression follows an equation created to predict the outcomes. Whereas, the KNN Regression identify the nearest neighboring datapoints to predict the outcomes. \n",
    "    \n",
    "    In this problem, the OLS Regression appears to be more accurate and less variate than the KNN Regression. However, this is to be expected since OLS Regression is created mainly for regression problems hence making it more robust in this kind of problem."
   ]
  }
 ],
 "metadata": {
  "kernelspec": {
   "display_name": "Python 3",
   "language": "python",
   "name": "python3"
  },
  "language_info": {
   "codemirror_mode": {
    "name": "ipython",
    "version": 3
   },
   "file_extension": ".py",
   "mimetype": "text/x-python",
   "name": "python",
   "nbconvert_exporter": "python",
   "pygments_lexer": "ipython3",
   "version": "3.6.1"
  }
 },
 "nbformat": 4,
 "nbformat_minor": 2
}
